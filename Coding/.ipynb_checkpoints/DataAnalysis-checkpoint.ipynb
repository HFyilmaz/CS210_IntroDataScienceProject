{
 "cells": [
  {
   "cell_type": "code",
   "execution_count": 1,
   "id": "1c2eb14a",
   "metadata": {},
   "outputs": [],
   "source": [
    "import pandas as pd"
   ]
  },
  {
   "cell_type": "code",
   "execution_count": 4,
   "id": "3f533f9f",
   "metadata": {},
   "outputs": [],
   "source": [
    "df=pd.read_csv(\"DataAnalysis.csv\")"
   ]
  },
  {
   "cell_type": "code",
   "execution_count": 6,
   "id": "dcfc2bef",
   "metadata": {},
   "outputs": [
    {
     "data": {
      "text/plain": [
       "channelName        object\n",
       "video_title        object\n",
       "sentence           object\n",
       "publishDate        object\n",
       "sentiment_score     int64\n",
       "KKscore             int64\n",
       "RTEscore            int64\n",
       "SOscore             int64\n",
       "MIscore             int64\n",
       "dtype: object"
      ]
     },
     "execution_count": 6,
     "metadata": {},
     "output_type": "execute_result"
    }
   ],
   "source": [
    "df.dtypes"
   ]
  },
  {
   "cell_type": "code",
   "execution_count": null,
   "id": "0886efdd",
   "metadata": {},
   "outputs": [],
   "source": []
  }
 ],
 "metadata": {
  "kernelspec": {
   "display_name": "Python 3 (ipykernel)",
   "language": "python",
   "name": "python3"
  },
  "language_info": {
   "codemirror_mode": {
    "name": "ipython",
    "version": 3
   },
   "file_extension": ".py",
   "mimetype": "text/x-python",
   "name": "python",
   "nbconvert_exporter": "python",
   "pygments_lexer": "ipython3",
   "version": "3.11.3"
  }
 },
 "nbformat": 4,
 "nbformat_minor": 5
}
